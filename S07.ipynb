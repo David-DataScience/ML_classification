{
 "cells": [
  {
   "cell_type": "markdown",
   "id": "81eee7dc",
   "metadata": {},
   "source": [
    "### Sprint 7. Algoritmes d’aprenentatge supervisat: Classificació"
   ]
  },
  {
   "cell_type": "code",
   "execution_count": 456,
   "id": "76230a40",
   "metadata": {
    "ExecuteTime": {
     "end_time": "2022-05-08T15:14:42.414900Z",
     "start_time": "2022-05-08T15:14:39.657044Z"
    }
   },
   "outputs": [],
   "source": [
    "import pandas as pd \n",
    "import numpy as np\n",
    "import matplotlib.pyplot as plt \n",
    "%matplotlib inline\n",
    "import seaborn as sns\n",
    "pd.set_option('display.max_columns', None)\n",
    "import warnings\n",
    "warnings.filterwarnings('ignore')\n",
    "from sklearn.preprocessing import StandardScaler\n",
    "from sklearn.model_selection import train_test_split\n",
    "from sklearn.model_selection import  cross_val_score, cross_val_predict\n",
    "from sklearn.model_selection import StratifiedKFold, KFold\n",
    "from sklearn.linear_model import LogisticRegression\n",
    "from sklearn.metrics import accuracy_score, f1_score, confusion_matrix, recall_score, roc_auc_score, log_loss\n",
    "from sklearn.metrics import classification_report\n",
    "from sklearn.model_selection import GridSearchCV\n",
    "from sklearn import metrics"
   ]
  },
  {
   "cell_type": "markdown",
   "id": "41c4f4e1",
   "metadata": {},
   "source": [
    "Obrim l'arxiu i li assignem les columnes corresponents."
   ]
  },
  {
   "cell_type": "code",
   "execution_count": 367,
   "id": "33fcfb5b",
   "metadata": {
    "ExecuteTime": {
     "end_time": "2022-05-08T15:14:48.355857Z",
     "start_time": "2022-05-08T15:14:44.388302Z"
    }
   },
   "outputs": [
    {
     "data": {
      "text/html": [
       "<div>\n",
       "<style>\n",
       "    .dataframe thead tr:only-child th {\n",
       "        text-align: right;\n",
       "    }\n",
       "\n",
       "    .dataframe thead th {\n",
       "        text-align: left;\n",
       "    }\n",
       "\n",
       "    .dataframe tbody tr th {\n",
       "        vertical-align: top;\n",
       "    }\n",
       "</style>\n",
       "<table border=\"1\" class=\"dataframe\">\n",
       "  <thead>\n",
       "    <tr style=\"text-align: right;\">\n",
       "      <th></th>\n",
       "      <th>Class</th>\n",
       "      <th>Alcohol</th>\n",
       "      <th>Malic acid</th>\n",
       "      <th>Ash</th>\n",
       "      <th>Alcalinity of ash</th>\n",
       "      <th>Magnesium</th>\n",
       "      <th>Total phenols</th>\n",
       "      <th>Flavanoids</th>\n",
       "      <th>Nonflavanoid phenols</th>\n",
       "      <th>Proanthocyanins</th>\n",
       "      <th>Color intensity</th>\n",
       "      <th>Hue</th>\n",
       "      <th>OD280/OD315 of diluted wines</th>\n",
       "      <th>Proline</th>\n",
       "    </tr>\n",
       "  </thead>\n",
       "  <tbody>\n",
       "    <tr>\n",
       "      <th>0</th>\n",
       "      <td>1</td>\n",
       "      <td>13.20</td>\n",
       "      <td>1.78</td>\n",
       "      <td>2.14</td>\n",
       "      <td>11.2</td>\n",
       "      <td>100</td>\n",
       "      <td>2.65</td>\n",
       "      <td>2.76</td>\n",
       "      <td>0.26</td>\n",
       "      <td>1.28</td>\n",
       "      <td>4.38</td>\n",
       "      <td>1.05</td>\n",
       "      <td>3.40</td>\n",
       "      <td>1050</td>\n",
       "    </tr>\n",
       "    <tr>\n",
       "      <th>1</th>\n",
       "      <td>1</td>\n",
       "      <td>13.16</td>\n",
       "      <td>2.36</td>\n",
       "      <td>2.67</td>\n",
       "      <td>18.6</td>\n",
       "      <td>101</td>\n",
       "      <td>2.80</td>\n",
       "      <td>3.24</td>\n",
       "      <td>0.30</td>\n",
       "      <td>2.81</td>\n",
       "      <td>5.68</td>\n",
       "      <td>1.03</td>\n",
       "      <td>3.17</td>\n",
       "      <td>1185</td>\n",
       "    </tr>\n",
       "    <tr>\n",
       "      <th>2</th>\n",
       "      <td>1</td>\n",
       "      <td>14.37</td>\n",
       "      <td>1.95</td>\n",
       "      <td>2.50</td>\n",
       "      <td>16.8</td>\n",
       "      <td>113</td>\n",
       "      <td>3.85</td>\n",
       "      <td>3.49</td>\n",
       "      <td>0.24</td>\n",
       "      <td>2.18</td>\n",
       "      <td>7.80</td>\n",
       "      <td>0.86</td>\n",
       "      <td>3.45</td>\n",
       "      <td>1480</td>\n",
       "    </tr>\n",
       "    <tr>\n",
       "      <th>3</th>\n",
       "      <td>1</td>\n",
       "      <td>13.24</td>\n",
       "      <td>2.59</td>\n",
       "      <td>2.87</td>\n",
       "      <td>21.0</td>\n",
       "      <td>118</td>\n",
       "      <td>2.80</td>\n",
       "      <td>2.69</td>\n",
       "      <td>0.39</td>\n",
       "      <td>1.82</td>\n",
       "      <td>4.32</td>\n",
       "      <td>1.04</td>\n",
       "      <td>2.93</td>\n",
       "      <td>735</td>\n",
       "    </tr>\n",
       "    <tr>\n",
       "      <th>4</th>\n",
       "      <td>1</td>\n",
       "      <td>14.20</td>\n",
       "      <td>1.76</td>\n",
       "      <td>2.45</td>\n",
       "      <td>15.2</td>\n",
       "      <td>112</td>\n",
       "      <td>3.27</td>\n",
       "      <td>3.39</td>\n",
       "      <td>0.34</td>\n",
       "      <td>1.97</td>\n",
       "      <td>6.75</td>\n",
       "      <td>1.05</td>\n",
       "      <td>2.85</td>\n",
       "      <td>1450</td>\n",
       "    </tr>\n",
       "  </tbody>\n",
       "</table>\n",
       "</div>"
      ],
      "text/plain": [
       "   Class  Alcohol  Malic acid   Ash  Alcalinity of ash  Magnesium  \\\n",
       "0      1    13.20        1.78  2.14               11.2        100   \n",
       "1      1    13.16        2.36  2.67               18.6        101   \n",
       "2      1    14.37        1.95  2.50               16.8        113   \n",
       "3      1    13.24        2.59  2.87               21.0        118   \n",
       "4      1    14.20        1.76  2.45               15.2        112   \n",
       "\n",
       "   Total phenols  Flavanoids  Nonflavanoid phenols  Proanthocyanins  \\\n",
       "0           2.65        2.76                  0.26             1.28   \n",
       "1           2.80        3.24                  0.30             2.81   \n",
       "2           3.85        3.49                  0.24             2.18   \n",
       "3           2.80        2.69                  0.39             1.82   \n",
       "4           3.27        3.39                  0.34             1.97   \n",
       "\n",
       "   Color intensity   Hue  OD280/OD315 of diluted wines  Proline  \n",
       "0             4.38  1.05                          3.40     1050  \n",
       "1             5.68  1.03                          3.17     1185  \n",
       "2             7.80  0.86                          3.45     1480  \n",
       "3             4.32  1.04                          2.93      735  \n",
       "4             6.75  1.05                          2.85     1450  "
      ]
     },
     "execution_count": 367,
     "metadata": {},
     "output_type": "execute_result"
    }
   ],
   "source": [
    "data = pd.read_csv('wineData.txt')\n",
    "data.columns = ['Class', 'Alcohol', 'Malic acid', 'Ash', 'Alcalinity of ash', 'Magnesium', 'Total phenols', 'Flavanoids', 'Nonflavanoid phenols', 'Proanthocyanins', 'Color intensity', 'Hue', 'OD280/OD315 of diluted wines', 'Proline']\n",
    "data.columns\n",
    "data.head()"
   ]
  },
  {
   "cell_type": "code",
   "execution_count": 368,
   "id": "70c53908",
   "metadata": {},
   "outputs": [
    {
     "data": {
      "text/plain": [
       "(177, 14)"
      ]
     },
     "execution_count": 368,
     "metadata": {},
     "output_type": "execute_result"
    }
   ],
   "source": [
    "data.shape"
   ]
  },
  {
   "cell_type": "markdown",
   "id": "761955ca",
   "metadata": {},
   "source": [
    "Mostrem informació sobre les dades de les columnes."
   ]
  },
  {
   "cell_type": "code",
   "execution_count": 369,
   "id": "97f3160e",
   "metadata": {},
   "outputs": [
    {
     "name": "stdout",
     "output_type": "stream",
     "text": [
      "<class 'pandas.core.frame.DataFrame'>\n",
      "RangeIndex: 177 entries, 0 to 176\n",
      "Data columns (total 14 columns):\n",
      "Class                           177 non-null int64\n",
      "Alcohol                         177 non-null float64\n",
      "Malic acid                      177 non-null float64\n",
      "Ash                             177 non-null float64\n",
      "Alcalinity of ash               177 non-null float64\n",
      "Magnesium                       177 non-null int64\n",
      "Total phenols                   177 non-null float64\n",
      "Flavanoids                      177 non-null float64\n",
      "Nonflavanoid phenols            177 non-null float64\n",
      "Proanthocyanins                 177 non-null float64\n",
      "Color intensity                 177 non-null float64\n",
      "Hue                             177 non-null float64\n",
      "OD280/OD315 of diluted wines    177 non-null float64\n",
      "Proline                         177 non-null int64\n",
      "dtypes: float64(11), int64(3)\n",
      "memory usage: 19.4 KB\n"
     ]
    }
   ],
   "source": [
    "data.info()"
   ]
  },
  {
   "cell_type": "markdown",
   "id": "3e613d2f",
   "metadata": {},
   "source": [
    "### - Exercici 1\n",
    "Crea almenys dos models de classificació diferents per intentar predir el millor les classes de l'arxiu adjunt."
   ]
  },
  {
   "cell_type": "markdown",
   "id": "d62391c1",
   "metadata": {},
   "source": [
    "#### Model 1: Logistic Regression"
   ]
  },
  {
   "cell_type": "markdown",
   "id": "daf26e1a",
   "metadata": {},
   "source": [
    "Primer farem un model de regressió logística Multinomial, doncs la variable objectiu, la classe de vi, té 3 categories.Aquest model posteriorment podrem fer servir com a linia de base en cas de voler millorar-ho amb un altre tipus de model. "
   ]
  },
  {
   "cell_type": "code",
   "execution_count": 370,
   "id": "5de2f80b",
   "metadata": {},
   "outputs": [],
   "source": [
    "# Escollim la variable objectiu\n",
    "y = data['Class']\n",
    "# Escollim les variables independents treient la variable objectiu.\n",
    "# X = data.drop(columns='Class')\n",
    "X = data.drop(['Class'], axis = 1)"
   ]
  },
  {
   "cell_type": "markdown",
   "id": "7a89cceb",
   "metadata": {},
   "source": [
    "A continuació dividirem les dades en un set d'entrenament i un altre de test en proporció 80% i 20%"
   ]
  },
  {
   "cell_type": "code",
   "execution_count": 371,
   "id": "30418028",
   "metadata": {
    "collapsed": true
   },
   "outputs": [],
   "source": [
    "X_train, X_test, y_train, y_test = train_test_split(X, y, test_size=0.2, random_state= 0)"
   ]
  },
  {
   "cell_type": "code",
   "execution_count": 372,
   "id": "c519b122",
   "metadata": {},
   "outputs": [
    {
     "name": "stdout",
     "output_type": "stream",
     "text": [
      "X_train.shape:  (141, 13)\n",
      "X_test.shape:  (36, 13)\n",
      "y_train.shape:  (141,)\n",
      "y_test.shape:  (36,)\n"
     ]
    }
   ],
   "source": [
    "print('X_train.shape: ', X_train.shape)\n",
    "print('X_test.shape: ', X_test.shape)\n",
    "print('y_train.shape: ', y_train.shape)\n",
    "print('y_test.shape: ', y_test.shape)"
   ]
  },
  {
   "cell_type": "markdown",
   "id": "87dc5aff",
   "metadata": {},
   "source": [
    "Fem el model de regressió logística i l'entrenem amb les dades del set d'entrenament."
   ]
  },
  {
   "cell_type": "code",
   "execution_count": 373,
   "id": "7a160c37",
   "metadata": {
    "scrolled": true
   },
   "outputs": [
    {
     "data": {
      "text/plain": [
       "LogisticRegression(C=1.0, class_weight=None, dual=False, fit_intercept=True,\n",
       "          intercept_scaling=1, max_iter=100, multi_class='multinomial',\n",
       "          n_jobs=1, penalty='l2', random_state=0, solver='newton-cg',\n",
       "          tol=0.0001, verbose=0, warm_start=False)"
      ]
     },
     "execution_count": 373,
     "metadata": {},
     "output_type": "execute_result"
    }
   ],
   "source": [
    "clf =  LogisticRegression(random_state=0, multi_class='multinomial', solver='newton-cg')\n",
    " \n",
    "clf.fit(X_train, y_train)"
   ]
  },
  {
   "cell_type": "markdown",
   "id": "4d173f99",
   "metadata": {},
   "source": [
    "A continuació comprovarem quina precisió ens dona tant el set d'entrenament com el de test."
   ]
  },
  {
   "cell_type": "code",
   "execution_count": 403,
   "id": "06315eec",
   "metadata": {},
   "outputs": [
    {
     "name": "stdout",
     "output_type": "stream",
     "text": [
      "Precisió del set d'entrenament:  98.5816 %\n",
      "Precisió del set de test:  94.4444 %\n"
     ]
    }
   ],
   "source": [
    "score = clf.score(X_train,y_train)*100\n",
    "print(\"Precisió del set d'entrenament: \", round(score, 4), \"%\")\n",
    "\n",
    "preds = clf.predict(X_test)\n",
    "score_pred = accuracy_score(y_test, preds) *100\n",
    "print(\"Precisió del set de test: \", round(score_pred,4), \"%\")"
   ]
  },
  {
   "cell_type": "code",
   "execution_count": null,
   "id": "f44881c5",
   "metadata": {
    "collapsed": true
   },
   "outputs": [],
   "source": [
    "Veiem que la precissió del test d'entrenament és  del 98.5% mentres que la del set de test es del 94.4%, així doncs les prediccions haurien de ser molt acurades."
   ]
  },
  {
   "cell_type": "markdown",
   "id": "7a5e2472",
   "metadata": {},
   "source": [
    "Ara farem un informe que ens mostrarà algunes mètriques segmentades segons la classe:"
   ]
  },
  {
   "cell_type": "code",
   "execution_count": 328,
   "id": "92d0448d",
   "metadata": {},
   "outputs": [
    {
     "name": "stdout",
     "output_type": "stream",
     "text": [
      "             precision    recall  f1-score   support\n",
      "\n",
      "   classe 1       1.00      1.00      1.00        14\n",
      "   classe 2       0.93      0.93      0.93        15\n",
      "   classe 3       0.86      0.86      0.86         7\n",
      "\n",
      "avg / total       0.94      0.94      0.94        36\n",
      "\n"
     ]
    }
   ],
   "source": [
    "target_names = ['classe 1', 'classe 2', 'classe 3']\n",
    "print(classification_report(y_test, preds, target_names=target_names))"
   ]
  },
  {
   "cell_type": "code",
   "execution_count": 404,
   "id": "8d4ad312",
   "metadata": {},
   "outputs": [],
   "source": [
    "def print_results(true, predicted): \n",
    "    accuracy = accuracy_score(true, predicted)\n",
    "    zero_log_loss = metrics.zero_one_loss(true, predicted)\n",
    "    #hamming_log_loss = metrics.hamming_loss(true, predicted)\n",
    "    recall = recall_score(true, predicted, average='weighted')\n",
    "    f1score = f1_score(true, predicted, average='weighted')\n",
    "    precision = metrics.precision_score(true, predicted, average='weighted')\n",
    "    \n",
    "    print('Accuracy : ', accuracy)\n",
    "    print('Recall (or sensitivity): ', recall)\n",
    "    print('F1 score: ', f1score)\n",
    "    print('Precision : ', precision)\n",
    "    print(\"zero_one_loss\", zero_log_loss)\n",
    "    #print(\"hamming_loss\",hamming_log_loss)"
   ]
  },
  {
   "cell_type": "code",
   "execution_count": 405,
   "id": "9f6694b6",
   "metadata": {
    "scrolled": true
   },
   "outputs": [
    {
     "name": "stdout",
     "output_type": "stream",
     "text": [
      "Accuracy :  0.944444444444\n",
      "Recall (or sensitivity):  0.944444444444\n",
      "F1 score:  0.944444444444\n",
      "Precision :  0.944444444444\n",
      "zero_one_loss 0.0555555555556\n"
     ]
    }
   ],
   "source": [
    "print_results(y_test, preds)"
   ]
  },
  {
   "cell_type": "markdown",
   "id": "fa109ba6",
   "metadata": {},
   "source": [
    "A continuació farem una matriu de confusió que compara les dades reals amb les predites."
   ]
  },
  {
   "cell_type": "code",
   "execution_count": 331,
   "id": "861a6698",
   "metadata": {},
   "outputs": [
    {
     "name": "stdout",
     "output_type": "stream",
     "text": [
      "Matriu de Confusió:\n",
      "[[14  0  0]\n",
      " [ 0 14  1]\n",
      " [ 0  1  6]]\n"
     ]
    }
   ],
   "source": [
    "log_matrix = confusion_matrix(y_test, preds)\n",
    "print('Matriu de Confusió:')\n",
    "print(log_matrix)"
   ]
  },
  {
   "cell_type": "markdown",
   "id": "7d10968d",
   "metadata": {},
   "source": [
    "Creem una funció que imprimeixi els verdaders i falsos per a cada classe a partir de la matriu de confusió."
   ]
  },
  {
   "cell_type": "code",
   "execution_count": 110,
   "id": "2607be8c",
   "metadata": {},
   "outputs": [],
   "source": [
    "def print_confusion_matrix(y_true, y_pred):\n",
    "    cm = confusion_matrix(y_true, y_pred)\n",
    "    C1V = cm[0][0]\n",
    "    C2F1 = cm[0][1]\n",
    "    C3F1 = cm[0][2]\n",
    "    C1F2 = cm[1][0]\n",
    "    C2V = cm[1][1]\n",
    "    C3F2 = cm[1][2]\n",
    "    C1F3 = cm[2][0]\n",
    "    C2F3 = cm[2][1]\n",
    "    C3V = cm[2][2]\n",
    "    \n",
    "    print('Clase 1 Verdaders = ', C1V )\n",
    "    print('clase 2 Verdaders = ', C2V )\n",
    "    print('Clase 3 Verdaders = ', C3V )\n",
    "    print('Clase 1 Fals = ', C1F2+C1F3 )\n",
    "    print('clase 2 Fals = ', C2F1+C2F3 )\n",
    "    print('Clase 3 Fals = ', C3F1+C3F2 ) "
   ]
  },
  {
   "cell_type": "markdown",
   "id": "f3474367",
   "metadata": {},
   "source": [
    "Imprimim els resultats."
   ]
  },
  {
   "cell_type": "code",
   "execution_count": 332,
   "id": "f48c3097",
   "metadata": {},
   "outputs": [
    {
     "name": "stdout",
     "output_type": "stream",
     "text": [
      "Clase 1 Verdaders =  14\n",
      "clase 2 Verdaders =  14\n",
      "Clase 3 Verdaders =  6\n",
      "Clase 1 Fals =  0\n",
      "clase 2 Fals =  1\n",
      "Clase 3 Fals =  1\n"
     ]
    }
   ],
   "source": [
    "print_confusion_matrix(y_test, preds)"
   ]
  },
  {
   "cell_type": "markdown",
   "id": "01c64366",
   "metadata": {},
   "source": [
    "Obtenim 34 resultats correctes i tan sols 2 incorrectes. Lo que ens confirma que realment la precisió en les prediccions es molt alta. "
   ]
  },
  {
   "cell_type": "markdown",
   "id": "f19b9482",
   "metadata": {},
   "source": [
    "Finalment guardarem els resultats de les metriques del nostre model."
   ]
  },
  {
   "cell_type": "code",
   "execution_count": 407,
   "id": "0a5df578",
   "metadata": {
    "collapsed": true
   },
   "outputs": [],
   "source": [
    "def get_results(true, predicted): \n",
    "    accuracy = accuracy_score(true, predicted)\n",
    "    recall = recall_score(true, predicted, average='weighted')\n",
    "    f1score = f1_score(true, predicted, average='weighted')\n",
    "    precision = metrics.precision_score(true, predicted, average='weighted')\n",
    "    zero_log_loss = metrics.zero_one_loss(true, predicted)\n",
    "    return accuracy, recall, precision, f1score, zero_log_loss"
   ]
  },
  {
   "cell_type": "code",
   "execution_count": 408,
   "id": "618caf6c",
   "metadata": {},
   "outputs": [
    {
     "data": {
      "text/html": [
       "<div>\n",
       "<style>\n",
       "    .dataframe thead tr:only-child th {\n",
       "        text-align: right;\n",
       "    }\n",
       "\n",
       "    .dataframe thead th {\n",
       "        text-align: left;\n",
       "    }\n",
       "\n",
       "    .dataframe tbody tr th {\n",
       "        vertical-align: top;\n",
       "    }\n",
       "</style>\n",
       "<table border=\"1\" class=\"dataframe\">\n",
       "  <thead>\n",
       "    <tr style=\"text-align: right;\">\n",
       "      <th></th>\n",
       "      <th>Model</th>\n",
       "      <th>Accuracy</th>\n",
       "      <th>Recall</th>\n",
       "      <th>Precision</th>\n",
       "      <th>f1-score</th>\n",
       "      <th>zero_one_loss</th>\n",
       "    </tr>\n",
       "  </thead>\n",
       "  <tbody>\n",
       "    <tr>\n",
       "      <th>0</th>\n",
       "      <td>Logistic Regression</td>\n",
       "      <td>0.944444</td>\n",
       "      <td>0.944444</td>\n",
       "      <td>0.944444</td>\n",
       "      <td>0.944444</td>\n",
       "      <td>0.055556</td>\n",
       "    </tr>\n",
       "  </tbody>\n",
       "</table>\n",
       "</div>"
      ],
      "text/plain": [
       "                 Model  Accuracy    Recall  Precision  f1-score  zero_one_loss\n",
       "0  Logistic Regression  0.944444  0.944444   0.944444  0.944444       0.055556"
      ]
     },
     "execution_count": 408,
     "metadata": {},
     "output_type": "execute_result"
    }
   ],
   "source": [
    "results_df = pd.DataFrame(data= [['Logistic Regression',  get_results(y_test, preds)[0],\n",
    "                                  get_results(y_test, preds)[1],  get_results(y_test, preds)[2], \n",
    "                                  get_results(y_test, preds)[3], \n",
    "                                  get_results(y_test, preds)[4]]], columns = ['Model', \n",
    "                                   'Accuracy', 'Recall', 'Precision', 'f1-score', 'zero_one_loss'])\n",
    "\n",
    "results_df"
   ]
  },
  {
   "cell_type": "markdown",
   "id": "e287a1d0",
   "metadata": {},
   "source": [
    "#### Model 2: AdaBoost"
   ]
  },
  {
   "cell_type": "markdown",
   "id": "93d50c63",
   "metadata": {},
   "source": [
    "A continuació mirarem de millorar les prediccions tot fent servir un altre model que es diu AdaBoost."
   ]
  },
  {
   "cell_type": "markdown",
   "id": "bacc294a",
   "metadata": {},
   "source": [
    "Farem servir les dades del set d'entrenament que hem emprat a l'anterior model per entrenar l'actual."
   ]
  },
  {
   "cell_type": "code",
   "execution_count": 416,
   "id": "cc673bf6",
   "metadata": {},
   "outputs": [
    {
     "data": {
      "text/plain": [
       "AdaBoostClassifier(algorithm='SAMME.R', base_estimator=None,\n",
       "          learning_rate=1.0, n_estimators=100, random_state=0)"
      ]
     },
     "execution_count": 416,
     "metadata": {},
     "output_type": "execute_result"
    }
   ],
   "source": [
    "from sklearn.ensemble import AdaBoostClassifier\n",
    "\n",
    "ada = AdaBoostClassifier(random_state=0, n_estimators=100)\n",
    "\n",
    "ada.fit(X_train, y_train)"
   ]
  },
  {
   "cell_type": "markdown",
   "id": "eceb2314",
   "metadata": {},
   "source": [
    "A continuació mirarem quina precisió ens dona."
   ]
  },
  {
   "cell_type": "code",
   "execution_count": 417,
   "id": "2983be1a",
   "metadata": {},
   "outputs": [
    {
     "name": "stdout",
     "output_type": "stream",
     "text": [
      "Precisió del set d'entrenament:  99.2908 %\n",
      "Precisió del set de test:  94.4444 %\n"
     ]
    }
   ],
   "source": [
    "score = ada.score(X_train,y_train)*100\n",
    "print(\"Precisió del set d'entrenament: \",  round(score, 4), \"%\")\n",
    "\n",
    "ada_pred = ada.predict(X_test)\n",
    "score_pred = accuracy_score(y_test, ada_pred)*100\n",
    "print(\"Precisió del set de test: \",  round(score_pred, 4), \"%\")"
   ]
  },
  {
   "cell_type": "code",
   "execution_count": 418,
   "id": "a413f678",
   "metadata": {},
   "outputs": [
    {
     "name": "stdout",
     "output_type": "stream",
     "text": [
      "             precision    recall  f1-score   support\n",
      "\n",
      "   classe 1       0.93      1.00      0.97        14\n",
      "   classe 2       0.93      0.93      0.93        15\n",
      "   classe 3       1.00      0.86      0.92         7\n",
      "\n",
      "avg / total       0.95      0.94      0.94        36\n",
      "\n"
     ]
    }
   ],
   "source": [
    "target_names = ['classe 1', 'classe 2', 'classe 3']\n",
    "print(classification_report(y_test, ada_pred, target_names=target_names))"
   ]
  },
  {
   "cell_type": "code",
   "execution_count": 419,
   "id": "28a75cf1",
   "metadata": {},
   "outputs": [
    {
     "name": "stdout",
     "output_type": "stream",
     "text": [
      "Accuracy :  0.944444444444\n",
      "Recall (or sensitivity):  0.944444444444\n",
      "F1 score:  0.943854995579\n",
      "Precision :  0.946296296296\n",
      "zero_one_loss 0.0555555555556\n"
     ]
    }
   ],
   "source": [
    "print_results(y_test, ada_pred)"
   ]
  },
  {
   "cell_type": "markdown",
   "id": "a90a91bf",
   "metadata": {},
   "source": [
    "Si ens fixem en la l'accuracy i el recall veiem que no millora respecte la regressió logística. només millora lleugerament al set d'entrenament del qual n'hi ha moltes més dades, però en relació al set de test, amb una quantitat de dades molt limitada, l'accuracy, el recall i la perdua(Zero_one_loss) resta igual que al model de regressió logística. Només millora molt lleugerament la precisió, en un 0.18%"
   ]
  },
  {
   "cell_type": "markdown",
   "id": "c8f41082",
   "metadata": {},
   "source": [
    "A continuació farem una matriu de confusió que compara les dades reals amb les predites."
   ]
  },
  {
   "cell_type": "code",
   "execution_count": 163,
   "id": "895008bd",
   "metadata": {},
   "outputs": [
    {
     "name": "stdout",
     "output_type": "stream",
     "text": [
      "Matriu de Confusió:\n",
      "[[14  0  0]\n",
      " [ 1 14  0]\n",
      " [ 0  1  6]]\n"
     ]
    }
   ],
   "source": [
    "ada_matrix = confusion_matrix(y_test, ada_pred)\n",
    "print('Matriu de Confusió:')\n",
    "print(ada_matrix)"
   ]
  },
  {
   "cell_type": "markdown",
   "id": "a87f84c9",
   "metadata": {},
   "source": [
    "imprimim els resultats verdaders i falsos per a cada classe a partir de la matriu de confusió."
   ]
  },
  {
   "cell_type": "code",
   "execution_count": 121,
   "id": "e8c3e6d1",
   "metadata": {},
   "outputs": [
    {
     "name": "stdout",
     "output_type": "stream",
     "text": [
      "Clase 1 Verdaders =  14\n",
      "clase 2 Verdaders =  14\n",
      "Clase 3 Verdaders =  6\n",
      "Clase 1 Fals =  1\n",
      "clase 2 Fals =  1\n",
      "Clase 3 Fals =  0\n"
     ]
    }
   ],
   "source": [
    "print_confusion_matrix(y_test, ada_pred)"
   ]
  },
  {
   "cell_type": "markdown",
   "id": "ba98b10e",
   "metadata": {},
   "source": [
    "De la meteixa manera que en el model anterior, obtenim 34 resultats correctes i  2 incorrectes. Per lo que no ens ha millorat la predicció. "
   ]
  },
  {
   "cell_type": "code",
   "execution_count": 409,
   "id": "d57adc09",
   "metadata": {},
   "outputs": [
    {
     "data": {
      "text/html": [
       "<div>\n",
       "<style>\n",
       "    .dataframe thead tr:only-child th {\n",
       "        text-align: right;\n",
       "    }\n",
       "\n",
       "    .dataframe thead th {\n",
       "        text-align: left;\n",
       "    }\n",
       "\n",
       "    .dataframe tbody tr th {\n",
       "        vertical-align: top;\n",
       "    }\n",
       "</style>\n",
       "<table border=\"1\" class=\"dataframe\">\n",
       "  <thead>\n",
       "    <tr style=\"text-align: right;\">\n",
       "      <th></th>\n",
       "      <th>Model</th>\n",
       "      <th>Accuracy</th>\n",
       "      <th>Recall</th>\n",
       "      <th>Precision</th>\n",
       "      <th>f1-score</th>\n",
       "      <th>zero_one_loss</th>\n",
       "    </tr>\n",
       "  </thead>\n",
       "  <tbody>\n",
       "    <tr>\n",
       "      <th>0</th>\n",
       "      <td>AdaBoost</td>\n",
       "      <td>0.944444</td>\n",
       "      <td>0.944444</td>\n",
       "      <td>0.946296</td>\n",
       "      <td>0.943855</td>\n",
       "      <td>0.055556</td>\n",
       "    </tr>\n",
       "  </tbody>\n",
       "</table>\n",
       "</div>"
      ],
      "text/plain": [
       "      Model  Accuracy    Recall  Precision  f1-score  zero_one_loss\n",
       "0  AdaBoost  0.944444  0.944444   0.946296  0.943855       0.055556"
      ]
     },
     "execution_count": 409,
     "metadata": {},
     "output_type": "execute_result"
    }
   ],
   "source": [
    "results_df2 = pd.DataFrame(data= [['AdaBoost',  get_results(y_test, ada_pred)[0],\n",
    "                                  get_results(y_test, ada_pred)[1],  get_results(y_test, ada_pred)[2], \n",
    "                                  get_results(y_test, ada_pred)[3], \n",
    "                                  get_results(y_test, ada_pred)[4]]], columns = ['Model', \n",
    "                                   'Accuracy', 'Recall', 'Precision', 'f1-score', 'zero_one_loss'])\n",
    "results_df = pd.concat([results_df, results_df2])\n",
    "results_df2"
   ]
  },
  {
   "cell_type": "markdown",
   "id": "9b4a1d4f",
   "metadata": {},
   "source": [
    "### - Exercici 2\n",
    "\n",
    "Compara els models de classificació utilitzant la precisió (accuracy), una matriu de confiança i d’altres mètriques més avançades."
   ]
  },
  {
   "cell_type": "code",
   "execution_count": 412,
   "id": "fa43fdf7",
   "metadata": {},
   "outputs": [
    {
     "data": {
      "text/html": [
       "<div>\n",
       "<style>\n",
       "    .dataframe thead tr:only-child th {\n",
       "        text-align: right;\n",
       "    }\n",
       "\n",
       "    .dataframe thead th {\n",
       "        text-align: left;\n",
       "    }\n",
       "\n",
       "    .dataframe tbody tr th {\n",
       "        vertical-align: top;\n",
       "    }\n",
       "</style>\n",
       "<table border=\"1\" class=\"dataframe\">\n",
       "  <thead>\n",
       "    <tr style=\"text-align: right;\">\n",
       "      <th></th>\n",
       "      <th>Accuracy</th>\n",
       "      <th>Recall</th>\n",
       "      <th>Precision</th>\n",
       "      <th>f1-score</th>\n",
       "      <th>zero_one_loss</th>\n",
       "    </tr>\n",
       "    <tr>\n",
       "      <th>Model</th>\n",
       "      <th></th>\n",
       "      <th></th>\n",
       "      <th></th>\n",
       "      <th></th>\n",
       "      <th></th>\n",
       "    </tr>\n",
       "  </thead>\n",
       "  <tbody>\n",
       "    <tr>\n",
       "      <th>Logistic Regression</th>\n",
       "      <td>0.944444</td>\n",
       "      <td>0.944444</td>\n",
       "      <td>0.944444</td>\n",
       "      <td>0.944444</td>\n",
       "      <td>0.055556</td>\n",
       "    </tr>\n",
       "    <tr>\n",
       "      <th>AdaBoost</th>\n",
       "      <td>0.944444</td>\n",
       "      <td>0.944444</td>\n",
       "      <td>0.946296</td>\n",
       "      <td>0.943855</td>\n",
       "      <td>0.055556</td>\n",
       "    </tr>\n",
       "  </tbody>\n",
       "</table>\n",
       "</div>"
      ],
      "text/plain": [
       "                     Accuracy    Recall  Precision  f1-score  zero_one_loss\n",
       "Model                                                                      \n",
       "Logistic Regression  0.944444  0.944444   0.944444  0.944444       0.055556\n",
       "AdaBoost             0.944444  0.944444   0.946296  0.943855       0.055556"
      ]
     },
     "execution_count": 412,
     "metadata": {},
     "output_type": "execute_result"
    }
   ],
   "source": [
    "plot_results = results_df.set_index('Model')\n",
    "plot_results"
   ]
  },
  {
   "cell_type": "markdown",
   "id": "dce84172",
   "metadata": {},
   "source": [
    "Com podem veure a la taula, les metriques d'ambdos models son pràcticament idèntiques. només hi ha una lleugera millora en el model AdaBoost en quant a la precisió d'un 0.18%, mentre que el f1-score empitjora un 0.06%."
   ]
  },
  {
   "cell_type": "markdown",
   "id": "9473a418",
   "metadata": {},
   "source": [
    "Ara farem una gràfica per comparar aquestes dades."
   ]
  },
  {
   "cell_type": "code",
   "execution_count": 415,
   "id": "6b03b027",
   "metadata": {},
   "outputs": [
    {
     "data": {
      "image/png": "[encoded data removed]",
      "text/plain": [
       "<matplotlib.figure.Figure at 0x10fda2518>"
      ]
     },
     "metadata": {},
     "output_type": "display_data"
    }
   ],
   "source": [
    "ax = plot_results[['Accuracy', 'Recall', 'Precision', 'f1-score','zero_one_loss']].plot(kind='barh', figsize=(12, 8))\n",
    "ax.set_title('Comparativa de diferents metriques en AdaBoost i Regressió Logística', fontsize = 14)\n",
    "ax.set_ylabel('')\n",
    "ax.set_xlim([0.01, 1.05])\n",
    "handles, labels = ax.get_legend_handles_labels()\n",
    "ax.legend(reversed(handles), reversed(labels), loc='upper left', bbox_to_anchor=(1, 1.02)); "
   ]
  },
  {
   "cell_type": "markdown",
   "id": "cfdca736",
   "metadata": {},
   "source": [
    "en aquesta gràfica es pot veure visualment com son ambdos models practicament idèntics, on només s'aprecia l'esmentada lleugera millora per part del model AdaBoost en quant a la precisió."
   ]
  },
  {
   "cell_type": "markdown",
   "id": "f7d41e60",
   "metadata": {},
   "source": [
    "Farem també una gràfica de les matrius de confusió d'amdos models per comparar-les."
   ]
  },
  {
   "cell_type": "code",
   "execution_count": 445,
   "id": "db3b1103",
   "metadata": {},
   "outputs": [
    {
     "data": {
      "image/png": "[encoded data removed]",
      "text/plain": [
       "<matplotlib.figure.Figure at 0x111498860>"
      ]
     },
     "metadata": {},
     "output_type": "display_data"
    }
   ],
   "source": [
    "plt.figure(figsize = (12, 12))\n",
    "plt.suptitle('Confusion Matrix dels models', fontsize = 16)\n",
    "labels = ['Classe 1', 'Classe 2', 'Classe 3']\n",
    "\n",
    "plt.subplot(2,2,1)\n",
    "sns.heatmap(pd.DataFrame(log_matrix), annot = True ,fmt='g', cbar = False, cmap=\"YlGnBu\", xticklabels= labels, \n",
    "            yticklabels= labels)\n",
    "plt.title('Logistic Regression', fontsize = 14)\n",
    "plt.ylabel('Actual label',fontsize = 12 )\n",
    "plt.xlabel('Predicted label', fontsize = 12);\n",
    "\n",
    "plt.subplot(2,2,2)\n",
    "sns.heatmap(pd.DataFrame(ada_matrix), annot = True, fmt='g', cbar = False,  cmap=\"YlGnBu\" , xticklabels= labels, \n",
    "            yticklabels= labels)\n",
    "plt.title('AdaBoost', fontsize = 14)\n",
    "plt.ylabel('Actual Label', fontsize = 12)\n",
    "plt.xlabel('Predicted label', fontsize = 12);\n",
    "\n",
    "plt.tight_layout()"
   ]
  },
  {
   "cell_type": "markdown",
   "id": "45505105",
   "metadata": {},
   "source": [
    "Veiem que de la mateixa manera que ens mostra la gràfica comparativa anterior, son gairebé iguals. Només varia un fals positiu que en el model de regressió logística és a la Classe 3 i a l'AdaBoost a la Classe 1. "
   ]
  },
  {
   "cell_type": "markdown",
   "id": "f09391ff",
   "metadata": {},
   "source": [
    "### - Exercici 3\n",
    "\n",
    "Entrena’ls utilitzant els diferents paràmetres que admeten."
   ]
  },
  {
   "cell_type": "markdown",
   "id": "24273798",
   "metadata": {},
   "source": [
    "#### Logistic Regression"
   ]
  },
  {
   "cell_type": "markdown",
   "id": "5ff92bbe",
   "metadata": {},
   "source": [
    "Primer de tot veurem quins parametres té aquest model."
   ]
  },
  {
   "cell_type": "code",
   "execution_count": 183,
   "id": "5cb6081d",
   "metadata": {},
   "outputs": [
    {
     "data": {
      "text/plain": [
       "{'C': 1.0,\n",
       " 'class_weight': None,\n",
       " 'dual': False,\n",
       " 'fit_intercept': True,\n",
       " 'intercept_scaling': 1,\n",
       " 'max_iter': 100,\n",
       " 'multi_class': 'multinomial',\n",
       " 'n_jobs': 1,\n",
       " 'penalty': 'l2',\n",
       " 'random_state': 0,\n",
       " 'solver': 'newton-cg',\n",
       " 'tol': 0.0001,\n",
       " 'verbose': 0,\n",
       " 'warm_start': False}"
      ]
     },
     "execution_count": 183,
     "metadata": {},
     "output_type": "execute_result"
    }
   ],
   "source": [
    "clf.get_params()"
   ]
  },
  {
   "cell_type": "markdown",
   "id": "a760aa24",
   "metadata": {},
   "source": [
    "A continuació farem servir GridSearch per trobar els millors paràmetres per al nostre model."
   ]
  },
  {
   "cell_type": "code",
   "execution_count": 195,
   "id": "9bbaedce",
   "metadata": {},
   "outputs": [
    {
     "name": "stdout",
     "output_type": "stream",
     "text": [
      "Millor resultat: 0.978723404255\n",
      "Millors Hiperparametres: {'C': 1, 'max_iter': 100, 'solver': 'newton-cg'}\n"
     ]
    }
   ],
   "source": [
    "cv = StratifiedKFold(n_splits=10, random_state=0)\n",
    "# definim els parametres a buscar\n",
    "space = dict()\n",
    "space['solver'] = ['newton-cg', 'sag', 'lbfgs' ]\n",
    "space['C'] = [1e-5, 1e-4, 1e-3, 1e-2, 1e-1, 1, 10, 100]\n",
    "space['max_iter'] = [50, 100, 200, 300, 400, 500, 800, 1000]\n",
    "# definim la cerca\n",
    "search = GridSearchCV(clf, space, scoring='accuracy', cv=cv, n_jobs = -1, refit= True)\n",
    "result = search.fit(X_train, y_train)\n",
    "# imprimim els resultats\n",
    "print('Millor resultat: %s' % result.best_score_)\n",
    "print('Millors Hiperparametres: %s' % result.best_params_)"
   ]
  },
  {
   "cell_type": "markdown",
   "id": "273ec033",
   "metadata": {},
   "source": [
    "Com podem veure, el resultat dels millors paràmetres que hem seleccionat per la cerca coincideixen amb els que venen per defecte al model, així doncs en aquest cas no cal modificar-los per obtenir el millor resultat."
   ]
  },
  {
   "cell_type": "markdown",
   "id": "b07acf8e",
   "metadata": {},
   "source": [
    "#### AdaBoost"
   ]
  },
  {
   "cell_type": "markdown",
   "id": "f8eece3e",
   "metadata": {},
   "source": [
    "Mirem quins parametres té aquest model."
   ]
  },
  {
   "cell_type": "code",
   "execution_count": 185,
   "id": "12f6ad6a",
   "metadata": {},
   "outputs": [
    {
     "data": {
      "text/plain": [
       "{'algorithm': 'SAMME.R',\n",
       " 'base_estimator': None,\n",
       " 'learning_rate': 1.0,\n",
       " 'n_estimators': 100,\n",
       " 'random_state': 0}"
      ]
     },
     "execution_count": 185,
     "metadata": {},
     "output_type": "execute_result"
    }
   ],
   "source": [
    "ada.get_params()"
   ]
  },
  {
   "cell_type": "markdown",
   "id": "f3cead8c",
   "metadata": {},
   "source": [
    "Tal i com hem fet amb el model anterior, farem servir GridSearch per trobar els paràmetres òptims."
   ]
  },
  {
   "cell_type": "code",
   "execution_count": 190,
   "id": "44cefe9b",
   "metadata": {},
   "outputs": [
    {
     "name": "stdout",
     "output_type": "stream",
     "text": [
      "Millor resultat: 0.943262411348\n",
      "Millors Hiperparametres: {'n_estimators': 100}\n"
     ]
    }
   ],
   "source": [
    "# definim els parametres a buscar\n",
    "estimators = [100, 200, 500, 800, 1000]\n",
    "grid = dict(n_estimators = estimators)\n",
    "cv = StratifiedKFold(n_splits = 10, random_state=0)\n",
    "# definim la cerca\n",
    "grid_search = GridSearchCV(estimator = ada, param_grid=grid, cv = cv, scoring = 'accuracy', error_score=0 )\n",
    "grid_result_ada = grid_search.fit(X_train, y_train)\n",
    "# imprimim els resultats\n",
    "print('Millor resultat: %s' % grid_result_ada.best_score_)\n",
    "print('Millors Hiperparametres: %s' % grid_result_ada.best_params_)"
   ]
  },
  {
   "cell_type": "markdown",
   "id": "bf786301",
   "metadata": {},
   "source": [
    "Igual que succeeix amb l'anterior model el paràmetre que ve per defecte es igual que al resultat de la cerca amb GridSearch, de manera que no caldria modificar-lo."
   ]
  },
  {
   "cell_type": "markdown",
   "id": "8658581a",
   "metadata": {},
   "source": [
    "### - Exercici 4\n",
    "\n",
    "Compara el seu rendiment fent servir l'aproximació train/test o cross-validation."
   ]
  },
  {
   "cell_type": "markdown",
   "id": "61f5058f",
   "metadata": {},
   "source": [
    "#### Logistic Regression"
   ]
  },
  {
   "cell_type": "markdown",
   "id": "1082a8c3",
   "metadata": {
    "collapsed": true
   },
   "source": [
    "A continuació veurem quin resultats ens dona el nostre model amb la validació creuada.<br>\n",
    "Farem servir StratifiedKFold, doncs es recomanable fer-lo servir en problemes de classificació, donat que ens garanteix que la proporció de mostres en cada categoria sigui consistent amb el conjunt de dades originals  tant en el set d'entrenament com en el de test."
   ]
  },
  {
   "cell_type": "code",
   "execution_count": 477,
   "id": "1139393b",
   "metadata": {},
   "outputs": [
    {
     "name": "stdout",
     "output_type": "stream",
     "text": [
      "Precisió de les prediccions:  96.6102 %\n"
     ]
    }
   ],
   "source": [
    "skf = StratifiedKFold(n_splits=10, random_state=0)\n",
    "\n",
    "#score_acc = cross_val_score(clf, X, y, cv=skf, scoring=\"accuracy\")*100\n",
    "\n",
    "preds_lr_cv= cross_val_predict(clf, X, y, cv=skf)\n",
    "score_pred_cv = accuracy_score(y, preds_lr_cv)*100\n",
    "print(\"Precisió de les prediccions: \", round(score_pred_cv,4), \"%\")"
   ]
  },
  {
   "cell_type": "markdown",
   "id": "4eb98a3c",
   "metadata": {},
   "source": [
    "Veiem que la precisió en les prediccions ha millorat un 2.2% en relació amb el train/test."
   ]
  },
  {
   "cell_type": "code",
   "execution_count": 475,
   "id": "a0301609",
   "metadata": {},
   "outputs": [
    {
     "name": "stdout",
     "output_type": "stream",
     "text": [
      "Accuracy :  0.966101694915\n",
      "Recall (or sensitivity):  0.966101694915\n",
      "F1 score:  0.966019363206\n",
      "Precision :  0.966196291622\n",
      "zero_one_loss 0.0338983050847\n"
     ]
    }
   ],
   "source": [
    "print_results(y, preds_lr_cv)"
   ]
  },
  {
   "cell_type": "markdown",
   "id": "937bae5e",
   "metadata": {},
   "source": [
    "Ara farem un informe que ens mostrarà algunes mètriques segmentades segons la classe:"
   ]
  },
  {
   "cell_type": "code",
   "execution_count": 476,
   "id": "3ada4bfe",
   "metadata": {},
   "outputs": [
    {
     "name": "stdout",
     "output_type": "stream",
     "text": [
      "             precision    recall  f1-score   support\n",
      "\n",
      "   classe 1       0.97      0.98      0.97        58\n",
      "   classe 2       0.97      0.94      0.96        71\n",
      "   classe 3       0.96      0.98      0.97        48\n",
      "\n",
      "avg / total       0.97      0.97      0.97       177\n",
      "\n"
     ]
    }
   ],
   "source": [
    "target_names = ['classe 1', 'classe 2', 'classe 3']\n",
    "print(classification_report(y, preds_lr_cv, target_names=target_names))"
   ]
  },
  {
   "cell_type": "markdown",
   "id": "ec5aa7ed",
   "metadata": {},
   "source": [
    "Guardem els resultats."
   ]
  },
  {
   "cell_type": "code",
   "execution_count": 478,
   "id": "11cc350b",
   "metadata": {},
   "outputs": [
    {
     "data": {
      "text/html": [
       "<div>\n",
       "<style>\n",
       "    .dataframe thead tr:only-child th {\n",
       "        text-align: right;\n",
       "    }\n",
       "\n",
       "    .dataframe thead th {\n",
       "        text-align: left;\n",
       "    }\n",
       "\n",
       "    .dataframe tbody tr th {\n",
       "        vertical-align: top;\n",
       "    }\n",
       "</style>\n",
       "<table border=\"1\" class=\"dataframe\">\n",
       "  <thead>\n",
       "    <tr style=\"text-align: right;\">\n",
       "      <th></th>\n",
       "      <th>Model</th>\n",
       "      <th>Accuracy</th>\n",
       "      <th>Recall</th>\n",
       "      <th>Precision</th>\n",
       "      <th>f1-score</th>\n",
       "      <th>zero_one_loss</th>\n",
       "    </tr>\n",
       "  </thead>\n",
       "  <tbody>\n",
       "    <tr>\n",
       "      <th>0</th>\n",
       "      <td>Logistic Regression cv</td>\n",
       "      <td>0.966102</td>\n",
       "      <td>0.966102</td>\n",
       "      <td>0.966196</td>\n",
       "      <td>0.966019</td>\n",
       "      <td>0.033898</td>\n",
       "    </tr>\n",
       "  </tbody>\n",
       "</table>\n",
       "</div>"
      ],
      "text/plain": [
       "                    Model  Accuracy    Recall  Precision  f1-score  \\\n",
       "0  Logistic Regression cv  0.966102  0.966102   0.966196  0.966019   \n",
       "\n",
       "   zero_one_loss  \n",
       "0       0.033898  "
      ]
     },
     "execution_count": 478,
     "metadata": {},
     "output_type": "execute_result"
    }
   ],
   "source": [
    "compare_df = pd.DataFrame(data= [['Logistic Regression cv',  get_results(y, preds_lr_cv)[0],\n",
    "                                  get_results(y, preds_lr_cv)[1],  get_results(y, preds_lr_cv)[2], \n",
    "                                  get_results(y, preds_lr_cv)[3], get_results(y, preds_lr_cv)[4]]], columns = ['Model', \n",
    "                                   'Accuracy', 'Recall', 'Precision', 'f1-score', 'zero_one_loss'])\n",
    "\n",
    "compare_df"
   ]
  },
  {
   "cell_type": "markdown",
   "id": "41601b66",
   "metadata": {},
   "source": [
    "#### AdaBoost"
   ]
  },
  {
   "cell_type": "code",
   "execution_count": 481,
   "id": "bc21cd5b",
   "metadata": {},
   "outputs": [
    {
     "name": "stdout",
     "output_type": "stream",
     "text": [
      "Precisió de les prediccions:  88.1356 %\n"
     ]
    }
   ],
   "source": [
    "skf = StratifiedKFold(n_splits=10, random_state=0)\n",
    "\n",
    "#score_acc = cross_val_score(clf, X, y, cv=skf, scoring=\"accuracy\")*100\n",
    "\n",
    "preds_ada_cv= cross_val_predict(ada, X, y, cv=skf)\n",
    "score_pred_cv = accuracy_score(y, preds_ada_cv)*100\n",
    "print(\"Precisió de les prediccions: \", round(score_pred_cv,4), \"%\")"
   ]
  },
  {
   "cell_type": "markdown",
   "id": "4ec6fb5d",
   "metadata": {},
   "source": [
    "En aquest cas la precisió de les prediccions lluny de millorar ha empitjorat un 6%."
   ]
  },
  {
   "cell_type": "code",
   "execution_count": 485,
   "id": "50199050",
   "metadata": {},
   "outputs": [
    {
     "name": "stdout",
     "output_type": "stream",
     "text": [
      "Accuracy :  0.881355932203\n",
      "Recall (or sensitivity):  0.881355932203\n",
      "F1 score:  0.880842144351\n",
      "Precision :  0.888634657225\n",
      "zero_one_loss 0.118644067797\n"
     ]
    }
   ],
   "source": [
    "print_results(y, preds_ada_cv)"
   ]
  },
  {
   "cell_type": "code",
   "execution_count": 480,
   "id": "9f1ffaec",
   "metadata": {},
   "outputs": [
    {
     "name": "stdout",
     "output_type": "stream",
     "text": [
      "             precision    recall  f1-score   support\n",
      "\n",
      "   classe 1       0.90      0.95      0.92        58\n",
      "   classe 2       0.82      0.90      0.86        71\n",
      "   classe 3       0.97      0.77      0.86        48\n",
      "\n",
      "avg / total       0.89      0.88      0.88       177\n",
      "\n"
     ]
    }
   ],
   "source": [
    "target_names = ['classe 1', 'classe 2', 'classe 3']\n",
    "print(classification_report(y, preds_ada_cv, target_names=target_names))"
   ]
  },
  {
   "cell_type": "markdown",
   "id": "1d8da7a9",
   "metadata": {},
   "source": [
    "Guardem els resultats."
   ]
  },
  {
   "cell_type": "code",
   "execution_count": 482,
   "id": "edc03a47",
   "metadata": {},
   "outputs": [],
   "source": [
    "results_df4 = pd.DataFrame(data= [['AdaBoost cv',  get_results(y, preds_ada_cv)[0],\n",
    "                                  get_results(y, preds_ada_cv)[1],  get_results(y, preds_ada_cv)[2], \n",
    "                                  get_results(y, preds_ada_cv)[3], get_results(y, preds_ada_cv)[4]]], columns = ['Model', \n",
    "                                   'Accuracy', 'Recall', 'Precision', 'f1-score', 'zero_one_loss'])\n",
    "compare_df = pd.concat([compare_df, results_df4])"
   ]
  },
  {
   "cell_type": "markdown",
   "id": "f8f4ec8d",
   "metadata": {},
   "source": [
    "Comparem en una taula els resultats de la validació creuada en ambdos models."
   ]
  },
  {
   "cell_type": "code",
   "execution_count": 483,
   "id": "28a7c03f",
   "metadata": {},
   "outputs": [
    {
     "data": {
      "text/html": [
       "<div>\n",
       "<style>\n",
       "    .dataframe thead tr:only-child th {\n",
       "        text-align: right;\n",
       "    }\n",
       "\n",
       "    .dataframe thead th {\n",
       "        text-align: left;\n",
       "    }\n",
       "\n",
       "    .dataframe tbody tr th {\n",
       "        vertical-align: top;\n",
       "    }\n",
       "</style>\n",
       "<table border=\"1\" class=\"dataframe\">\n",
       "  <thead>\n",
       "    <tr style=\"text-align: right;\">\n",
       "      <th></th>\n",
       "      <th>Accuracy</th>\n",
       "      <th>Recall</th>\n",
       "      <th>Precision</th>\n",
       "      <th>f1-score</th>\n",
       "      <th>zero_one_loss</th>\n",
       "    </tr>\n",
       "    <tr>\n",
       "      <th>Model</th>\n",
       "      <th></th>\n",
       "      <th></th>\n",
       "      <th></th>\n",
       "      <th></th>\n",
       "      <th></th>\n",
       "    </tr>\n",
       "  </thead>\n",
       "  <tbody>\n",
       "    <tr>\n",
       "      <th>Logistic Regression cv</th>\n",
       "      <td>0.966102</td>\n",
       "      <td>0.966102</td>\n",
       "      <td>0.966196</td>\n",
       "      <td>0.966019</td>\n",
       "      <td>0.033898</td>\n",
       "    </tr>\n",
       "    <tr>\n",
       "      <th>AdaBoost cv</th>\n",
       "      <td>0.881356</td>\n",
       "      <td>0.881356</td>\n",
       "      <td>0.888635</td>\n",
       "      <td>0.880842</td>\n",
       "      <td>0.118644</td>\n",
       "    </tr>\n",
       "  </tbody>\n",
       "</table>\n",
       "</div>"
      ],
      "text/plain": [
       "                        Accuracy    Recall  Precision  f1-score  zero_one_loss\n",
       "Model                                                                         \n",
       "Logistic Regression cv  0.966102  0.966102   0.966196  0.966019       0.033898\n",
       "AdaBoost cv             0.881356  0.881356   0.888635  0.880842       0.118644"
      ]
     },
     "execution_count": 483,
     "metadata": {},
     "output_type": "execute_result"
    }
   ],
   "source": [
    "plot_results2 = compare_df.set_index('Model')\n",
    "plot_results2"
   ]
  },
  {
   "cell_type": "markdown",
   "id": "a353f6fa",
   "metadata": {},
   "source": [
    "Ara farem una gràfica per visualitzar-ho millor."
   ]
  },
  {
   "cell_type": "code",
   "execution_count": 484,
   "id": "c08df177",
   "metadata": {},
   "outputs": [
    {
     "data": {
      "image/png": "[encoded data removed]",
      "text/plain": [
       "<matplotlib.figure.Figure at 0x1102ebc88>"
      ]
     },
     "metadata": {},
     "output_type": "display_data"
    }
   ],
   "source": [
    "ax = plot_results2[['Accuracy', 'Recall', 'Precision', 'f1-score', 'zero_one_loss']].plot(kind='barh', figsize=(12, 8))\n",
    "ax.set_title('Comparativa de diferents metriques en AdaBoost i Regressió Logística', fontsize = 14)\n",
    "ax.set_ylabel('')\n",
    "ax.set_xlim([0.01, 1.05])\n",
    "handles, labels = ax.get_legend_handles_labels()\n",
    "ax.legend(reversed(handles), reversed(labels), loc='upper left', bbox_to_anchor=(1, 1.02)); "
   ]
  },
  {
   "cell_type": "markdown",
   "id": "6b2544f1",
   "metadata": {},
   "source": [
    "Si mirem la precisió dels sets d'entrenament i de test en ambdos models, veiem que hi ha una diferencia en la precisió entre tots dos sets que  ens indica que molt probablement ambdos models pateixen d'overfitting, encara que al model AdaBoost és més acusat.<br>\n",
    "l'overfitting més gran al model AdaBoost pot ser degut a que, en general, els models més complexos com aquest tenen més tendencia a l'overfitting que els models més simples com la regressió logística. \n",
    "De qualsevol manera l'overfitting en els dos models pot ser degut a que en haver-hi poques dades al set d'entrenament a l'algoritme li costa generalitzar i falla més quan li passem dades noves, com les del set de test.<br>\n",
    "Veiem que, després de fer la validació creuada en tots dos models, es veu que al model de regressió logística hi ha una millora d'aproximadament un 2% en relació al model amb train/test en totes les métriques i, en canvi, a l'AdaBoost empitjora en totes també en gairebé un 6%.<br>\n",
    "Per a datasets amb poques dades, com amb el que estem treballant, el métode cross validation obté prediccions més precises que no pas el train/test, així doncs, el model de regressió logística en obtenir unes millors métriques en general amb aquest métode que no pas l'AdaBosst i en ser aquestes més semblants a les obtingudes en el train/test, ens ve a dir que la regressió logística seria el model que hauriem d'escollir en aquest cas."
   ]
  },
  {
   "cell_type": "markdown",
   "id": "0a00897f",
   "metadata": {},
   "source": [
    "### - Exercici 5\n",
    "\n",
    "Aplica algun procés d'enginyeria per millorar els resultats (normalització, estandarització, mostreig...)."
   ]
  },
  {
   "cell_type": "markdown",
   "id": "cb995620",
   "metadata": {},
   "source": [
    "#### Logistic Regression"
   ]
  },
  {
   "cell_type": "code",
   "execution_count": 270,
   "id": "358be2c7",
   "metadata": {
    "collapsed": true
   },
   "outputs": [],
   "source": [
    "# Escollim la variable objectiu\n",
    "y = data['Class']\n",
    "# Escollim les variables independents treient la variable objectiu.\n",
    "# X = data.drop(columns='Class')\n",
    "X = data.drop(['Class'], axis = 1)"
   ]
  },
  {
   "cell_type": "markdown",
   "id": "16af267d",
   "metadata": {},
   "source": [
    "A continuació dividirem les dades en un set d'entrenament i un altre de test en proporció 80% i 20%"
   ]
  },
  {
   "cell_type": "code",
   "execution_count": 271,
   "id": "bf1ba0a3",
   "metadata": {
    "collapsed": true
   },
   "outputs": [],
   "source": [
    "X_train, X_test, y_train, y_test = train_test_split(X, y, test_size=0.2, random_state= 0)"
   ]
  },
  {
   "cell_type": "markdown",
   "id": "ba90fe55",
   "metadata": {},
   "source": [
    "Estandaritzem les dades"
   ]
  },
  {
   "cell_type": "code",
   "execution_count": 297,
   "id": "15e8ce56",
   "metadata": {
    "collapsed": true
   },
   "outputs": [],
   "source": [
    "scalar=StandardScaler()\n",
    "X_train_st = scalar.fit_transform(X_train)\n",
    "X_test_st =scalar.fit_transform(X_test)"
   ]
  },
  {
   "cell_type": "code",
   "execution_count": 281,
   "id": "4cf76394",
   "metadata": {},
   "outputs": [
    {
     "name": "stdout",
     "output_type": "stream",
     "text": [
      "X_train.shape:  (141, 13)\n",
      "X_test.shape:  (36, 13)\n",
      "y_train.shape:  (141,)\n",
      "y_test.shape:  (36,)\n"
     ]
    }
   ],
   "source": [
    "print('X_train.shape: ', X_train_st.shape)\n",
    "print('X_test.shape: ', X_test_st.shape)\n",
    "print('y_train.shape: ', y_train.shape)\n",
    "print('y_test.shape: ', y_test.shape)"
   ]
  },
  {
   "cell_type": "markdown",
   "id": "64543163",
   "metadata": {},
   "source": [
    "Fem el model de regressió logística i l'entrenem amb les dades del set d'entrenament."
   ]
  },
  {
   "cell_type": "code",
   "execution_count": 285,
   "id": "6ae27321",
   "metadata": {
    "scrolled": true
   },
   "outputs": [
    {
     "data": {
      "text/plain": [
       "LogisticRegression(C=1.0, class_weight=None, dual=False, fit_intercept=True,\n",
       "          intercept_scaling=1, max_iter=100, multi_class='multinomial',\n",
       "          n_jobs=1, penalty='l2', random_state=0, solver='newton-cg',\n",
       "          tol=0.0001, verbose=0, warm_start=False)"
      ]
     },
     "execution_count": 285,
     "metadata": {},
     "output_type": "execute_result"
    }
   ],
   "source": [
    "clf_st =  LogisticRegression(random_state=0, multi_class='multinomial', solver='newton-cg')\n",
    " \n",
    "clf_st.fit(X_train_st, y_train)"
   ]
  },
  {
   "cell_type": "markdown",
   "id": "b1b43be8",
   "metadata": {},
   "source": [
    "A continuació comprovarem quina precisió ens dona tant el set d'entrenament com el de test."
   ]
  },
  {
   "cell_type": "code",
   "execution_count": 440,
   "id": "f5ee7312",
   "metadata": {},
   "outputs": [
    {
     "name": "stdout",
     "output_type": "stream",
     "text": [
      "Precisió del set d'entrenament:  100.0 %\n",
      "Precisió del set de test:  97.2222 %\n"
     ]
    }
   ],
   "source": [
    "score_st = clf_st.score(X_train_st,y_train)*100\n",
    "print(\"Precisió del set d'entrenament: \", round(score_st,4), \"%\")\n",
    "\n",
    "preds_st = clf_st.predict(X_test_st) \n",
    "score_pred_st = accuracy_score(y_test, preds_st)*100\n",
    "print(\"Precisió del set de test: \", round(score_pred_st,4), \"%\")"
   ]
  },
  {
   "cell_type": "markdown",
   "id": "67ff638e",
   "metadata": {},
   "source": [
    "Veiem que la precissió del test d'entrenament és  del 100% mentres que la del set de test es del 97%, o sigui que ja ens ha millorat notablement respecte al model amb les dades sense estandaritzar, gairebé un 3% en el cas del set de test."
   ]
  },
  {
   "cell_type": "markdown",
   "id": "88898752",
   "metadata": {},
   "source": [
    "Ara farem un informe que ens mostrarà algunes mètriques segmentades segons la classe:"
   ]
  },
  {
   "cell_type": "code",
   "execution_count": 430,
   "id": "0cbf94ee",
   "metadata": {},
   "outputs": [
    {
     "name": "stdout",
     "output_type": "stream",
     "text": [
      "             precision    recall  f1-score   support\n",
      "\n",
      "   classe 1       1.00      0.93      0.96        14\n",
      "   classe 2       0.94      1.00      0.97        15\n",
      "   classe 3       1.00      1.00      1.00         7\n",
      "\n",
      "avg / total       0.97      0.97      0.97        36\n",
      "\n"
     ]
    }
   ],
   "source": [
    "target_names = ['classe 1', 'classe 2', 'classe 3']\n",
    "print(classification_report(y_test, preds_st, target_names=target_names))"
   ]
  },
  {
   "cell_type": "code",
   "execution_count": 431,
   "id": "2510aeb4",
   "metadata": {},
   "outputs": [
    {
     "name": "stdout",
     "output_type": "stream",
     "text": [
      "Accuracy :  0.972222222222\n",
      "Recall (or sensitivity):  0.972222222222\n",
      "F1 score:  0.972155847604\n",
      "Precision :  0.973958333333\n",
      "zero_one_loss 0.0277777777778\n"
     ]
    }
   ],
   "source": [
    "print_results(y_test, preds_st)"
   ]
  },
  {
   "cell_type": "markdown",
   "id": "f782e277",
   "metadata": {},
   "source": [
    "Comprovem com totes les métriques han millorat força amb l'estandarització de les dades, incloent-hi la perdua, que ha baixat de 5.5 a 2.7. O sigui que hauriem de tenir millors prediccions i al mateix temps una taxa d'error en aquestes menor."
   ]
  },
  {
   "cell_type": "code",
   "execution_count": 432,
   "id": "c6815baf",
   "metadata": {},
   "outputs": [
    {
     "name": "stdout",
     "output_type": "stream",
     "text": [
      "Matriu de Confusió:\n",
      "[[13  1  0]\n",
      " [ 0 15  0]\n",
      " [ 0  0  7]]\n"
     ]
    }
   ],
   "source": [
    "log_matrix_st = confusion_matrix(y_test, preds_st)\n",
    "print('Matriu de Confusió:')\n",
    "print(log_matrix_st)"
   ]
  },
  {
   "cell_type": "code",
   "execution_count": 434,
   "id": "d18c7503",
   "metadata": {},
   "outputs": [
    {
     "name": "stdout",
     "output_type": "stream",
     "text": [
      "Clase 1 Verdaders =  13\n",
      "clase 2 Verdaders =  15\n",
      "Clase 3 Verdaders =  7\n",
      "Clase 1 Fals =  0\n",
      "clase 2 Fals =  1\n",
      "Clase 3 Fals =  0\n"
     ]
    }
   ],
   "source": [
    "print_confusion_matrix(y_test, preds_st)"
   ]
  },
  {
   "cell_type": "markdown",
   "id": "cf8db23e",
   "metadata": {},
   "source": [
    "Podem veure que després de fer la matriu de confusió, ens dona tan sols 1 fals, mentre que en el model sense estandaritzar hi sortien 2."
   ]
  },
  {
   "cell_type": "code",
   "execution_count": 435,
   "id": "de7e5adb",
   "metadata": {},
   "outputs": [
    {
     "data": {
      "text/html": [
       "<div>\n",
       "<style>\n",
       "    .dataframe thead tr:only-child th {\n",
       "        text-align: right;\n",
       "    }\n",
       "\n",
       "    .dataframe thead th {\n",
       "        text-align: left;\n",
       "    }\n",
       "\n",
       "    .dataframe tbody tr th {\n",
       "        vertical-align: top;\n",
       "    }\n",
       "</style>\n",
       "<table border=\"1\" class=\"dataframe\">\n",
       "  <thead>\n",
       "    <tr style=\"text-align: right;\">\n",
       "      <th></th>\n",
       "      <th>Model</th>\n",
       "      <th>Accuracy</th>\n",
       "      <th>Recall</th>\n",
       "      <th>Precision</th>\n",
       "      <th>f1-score</th>\n",
       "      <th>zero_one_loss</th>\n",
       "    </tr>\n",
       "  </thead>\n",
       "  <tbody>\n",
       "    <tr>\n",
       "      <th>0</th>\n",
       "      <td>Logistic Regression Standard</td>\n",
       "      <td>0.972222</td>\n",
       "      <td>0.972222</td>\n",
       "      <td>0.973958</td>\n",
       "      <td>0.972156</td>\n",
       "      <td>0.027778</td>\n",
       "    </tr>\n",
       "  </tbody>\n",
       "</table>\n",
       "</div>"
      ],
      "text/plain": [
       "                          Model  Accuracy    Recall  Precision  f1-score  \\\n",
       "0  Logistic Regression Standard  0.972222  0.972222   0.973958  0.972156   \n",
       "\n",
       "   zero_one_loss  \n",
       "0       0.027778  "
      ]
     },
     "execution_count": 435,
     "metadata": {},
     "output_type": "execute_result"
    }
   ],
   "source": [
    "results_df_st = pd.DataFrame(data= [['Logistic Regression Standard',  get_results(y_test, preds_st)[0],\n",
    "                                  get_results(y_test, preds_st)[1],  get_results(y_test, preds_st)[2], \n",
    "                                  get_results(y_test, preds_st)[3], get_results(y_test, preds_st)[4]]], columns = ['Model', \n",
    "                                   'Accuracy', 'Recall', 'Precision', 'f1-score', 'zero_one_loss'])\n",
    "\n",
    "results_df_st"
   ]
  },
  {
   "cell_type": "markdown",
   "id": "fcd260c1",
   "metadata": {},
   "source": [
    "#### AdaBoost"
   ]
  },
  {
   "cell_type": "code",
   "execution_count": 294,
   "id": "0ce5dd7e",
   "metadata": {},
   "outputs": [
    {
     "data": {
      "text/plain": [
       "AdaBoostClassifier(algorithm='SAMME.R', base_estimator=None,\n",
       "          learning_rate=1.0, n_estimators=100, random_state=0)"
      ]
     },
     "execution_count": 294,
     "metadata": {},
     "output_type": "execute_result"
    }
   ],
   "source": [
    "ada_st = AdaBoostClassifier(random_state=0, n_estimators=100)\n",
    "\n",
    "ada_st.fit(X_train_st, y_train)"
   ]
  },
  {
   "cell_type": "markdown",
   "id": "329251e8",
   "metadata": {},
   "source": [
    "A continuació mirarem quina precisió ens dona."
   ]
  },
  {
   "cell_type": "code",
   "execution_count": 442,
   "id": "f1f5b9cc",
   "metadata": {},
   "outputs": [
    {
     "name": "stdout",
     "output_type": "stream",
     "text": [
      "Precisió del set d'entrenament:  99.2907801418 %\n",
      "Precisió del set de test:  94.4444444444 %\n"
     ]
    }
   ],
   "source": [
    "score_st = ada_st.score(X_train_st,y_train) \n",
    "print(\"Precisió del set d'entrenament: \", score_st*100, \"%\")\n",
    "\n",
    "ada_pred_st = ada_st.predict(X_test_st)\n",
    "score_pred_st = accuracy_score(y_test, ada_pred_st) \n",
    "print(\"Precisió del set de test: \", score_pred_st*100, \"%\")"
   ]
  },
  {
   "cell_type": "code",
   "execution_count": 446,
   "id": "4c200fa8",
   "metadata": {},
   "outputs": [
    {
     "name": "stdout",
     "output_type": "stream",
     "text": [
      "Accuracy :  0.944444444444\n",
      "Recall (or sensitivity):  0.944444444444\n",
      "F1 score:  0.943865170589\n",
      "Precision :  0.949768518519\n",
      "zero_one_loss 0.0555555555556\n"
     ]
    }
   ],
   "source": [
    "print_results(y_test, ada_pred_st)"
   ]
  },
  {
   "cell_type": "markdown",
   "id": "279cf27c",
   "metadata": {},
   "source": [
    "Veiem que les metriques queden pràcticament iguals després de l'estandarització. Només hi ha una petita millora de 0.35% en la precisió i un gairebé imperceptible 0.001% al f1-score. "
   ]
  },
  {
   "cell_type": "markdown",
   "id": "50da698d",
   "metadata": {},
   "source": [
    "Ara farem un informe que ens mostrarà algunes mètriques segmentades segons la classe:"
   ]
  },
  {
   "cell_type": "code",
   "execution_count": 299,
   "id": "c9e08965",
   "metadata": {},
   "outputs": [
    {
     "name": "stdout",
     "output_type": "stream",
     "text": [
      "             precision    recall  f1-score   support\n",
      "\n",
      "   classe 1       0.93      1.00      0.97        14\n",
      "   classe 2       1.00      0.87      0.93        15\n",
      "   classe 3       0.88      1.00      0.93         7\n",
      "\n",
      "avg / total       0.95      0.94      0.94        36\n",
      "\n"
     ]
    }
   ],
   "source": [
    "target_names = ['classe 1', 'classe 2', 'classe 3']\n",
    "print(classification_report(y_test, ada_pred_st, target_names=target_names))"
   ]
  },
  {
   "cell_type": "code",
   "execution_count": 300,
   "id": "6cd4f0e5",
   "metadata": {},
   "outputs": [
    {
     "name": "stdout",
     "output_type": "stream",
     "text": [
      "Matriu de Confusió:\n",
      "[[14  0  0]\n",
      " [ 1 13  1]\n",
      " [ 0  0  7]]\n"
     ]
    }
   ],
   "source": [
    "ada_matrix_st = confusion_matrix(y_test, ada_pred_st)\n",
    "print('Matriu de Confusió:')\n",
    "print(ada_matrix_st)"
   ]
  },
  {
   "cell_type": "code",
   "execution_count": 301,
   "id": "f7f3c7c1",
   "metadata": {},
   "outputs": [
    {
     "name": "stdout",
     "output_type": "stream",
     "text": [
      "Clase 1 Verdaders =  14\n",
      "clase 2 Verdaders =  13\n",
      "Clase 3 Verdaders =  7\n",
      "Clase 1 Fals =  1\n",
      "clase 2 Fals =  0\n",
      "Clase 3 Fals =  1\n"
     ]
    }
   ],
   "source": [
    "print_confusion_matrix(y_test, ada_pred_st)"
   ]
  },
  {
   "cell_type": "markdown",
   "id": "28c3a4b4",
   "metadata": {},
   "source": [
    "De la mateixa manera que en el model anterior, obtenim 34 resultats correctes i  2 incorrectes. Per lo que no ens ha millorat la predicció. "
   ]
  },
  {
   "cell_type": "code",
   "execution_count": 436,
   "id": "622e3abb",
   "metadata": {},
   "outputs": [
    {
     "data": {
      "text/html": [
       "<div>\n",
       "<style>\n",
       "    .dataframe thead tr:only-child th {\n",
       "        text-align: right;\n",
       "    }\n",
       "\n",
       "    .dataframe thead th {\n",
       "        text-align: left;\n",
       "    }\n",
       "\n",
       "    .dataframe tbody tr th {\n",
       "        vertical-align: top;\n",
       "    }\n",
       "</style>\n",
       "<table border=\"1\" class=\"dataframe\">\n",
       "  <thead>\n",
       "    <tr style=\"text-align: right;\">\n",
       "      <th></th>\n",
       "      <th>Model</th>\n",
       "      <th>Accuracy</th>\n",
       "      <th>Recall</th>\n",
       "      <th>Precision</th>\n",
       "      <th>f1-score</th>\n",
       "      <th>zero_one_loss</th>\n",
       "    </tr>\n",
       "  </thead>\n",
       "  <tbody>\n",
       "    <tr>\n",
       "      <th>0</th>\n",
       "      <td>AdaBoost Standard</td>\n",
       "      <td>0.944444</td>\n",
       "      <td>0.944444</td>\n",
       "      <td>0.949769</td>\n",
       "      <td>0.943865</td>\n",
       "      <td>0.055556</td>\n",
       "    </tr>\n",
       "  </tbody>\n",
       "</table>\n",
       "</div>"
      ],
      "text/plain": [
       "               Model  Accuracy    Recall  Precision  f1-score  zero_one_loss\n",
       "0  AdaBoost Standard  0.944444  0.944444   0.949769  0.943865       0.055556"
      ]
     },
     "execution_count": 436,
     "metadata": {},
     "output_type": "execute_result"
    }
   ],
   "source": [
    "results_df_st2 = pd.DataFrame(data= [['AdaBoost Standard',  get_results(y_test, ada_pred_st)[0],\n",
    "                                  get_results(y_test, ada_pred_st)[1],  get_results(y_test, ada_pred_st)[2], \n",
    "                                  get_results(y_test, ada_pred_st)[3], get_results(y_test, ada_pred_st)[4]]], columns = ['Model', \n",
    "                                   'Accuracy', 'Recall', 'Precision', 'f1-score', 'zero_one_loss'])\n",
    "results_df_st = pd.concat([results_df_st, results_df_st2])\n",
    "results_df_st2"
   ]
  },
  {
   "cell_type": "markdown",
   "id": "ecd1ea7e",
   "metadata": {},
   "source": [
    "Finalment compararem les metriques dels dos models amb les dades originals envers les estandaritzades."
   ]
  },
  {
   "cell_type": "code",
   "execution_count": 437,
   "id": "80f2e814",
   "metadata": {},
   "outputs": [],
   "source": [
    "results_df_st = pd.concat([results_df_st, results_df])"
   ]
  },
  {
   "cell_type": "code",
   "execution_count": 438,
   "id": "be1a3231",
   "metadata": {
    "scrolled": true
   },
   "outputs": [
    {
     "data": {
      "text/html": [
       "<div>\n",
       "<style>\n",
       "    .dataframe thead tr:only-child th {\n",
       "        text-align: right;\n",
       "    }\n",
       "\n",
       "    .dataframe thead th {\n",
       "        text-align: left;\n",
       "    }\n",
       "\n",
       "    .dataframe tbody tr th {\n",
       "        vertical-align: top;\n",
       "    }\n",
       "</style>\n",
       "<table border=\"1\" class=\"dataframe\">\n",
       "  <thead>\n",
       "    <tr style=\"text-align: right;\">\n",
       "      <th></th>\n",
       "      <th>Model</th>\n",
       "      <th>Accuracy</th>\n",
       "      <th>Recall</th>\n",
       "      <th>Precision</th>\n",
       "      <th>f1-score</th>\n",
       "      <th>zero_one_loss</th>\n",
       "    </tr>\n",
       "  </thead>\n",
       "  <tbody>\n",
       "    <tr>\n",
       "      <th>0</th>\n",
       "      <td>Logistic Regression Standard</td>\n",
       "      <td>0.972222</td>\n",
       "      <td>0.972222</td>\n",
       "      <td>0.973958</td>\n",
       "      <td>0.972156</td>\n",
       "      <td>0.027778</td>\n",
       "    </tr>\n",
       "    <tr>\n",
       "      <th>0</th>\n",
       "      <td>AdaBoost Standard</td>\n",
       "      <td>0.944444</td>\n",
       "      <td>0.944444</td>\n",
       "      <td>0.949769</td>\n",
       "      <td>0.943865</td>\n",
       "      <td>0.055556</td>\n",
       "    </tr>\n",
       "    <tr>\n",
       "      <th>0</th>\n",
       "      <td>Logistic Regression</td>\n",
       "      <td>0.944444</td>\n",
       "      <td>0.944444</td>\n",
       "      <td>0.944444</td>\n",
       "      <td>0.944444</td>\n",
       "      <td>0.055556</td>\n",
       "    </tr>\n",
       "    <tr>\n",
       "      <th>0</th>\n",
       "      <td>AdaBoost</td>\n",
       "      <td>0.944444</td>\n",
       "      <td>0.944444</td>\n",
       "      <td>0.946296</td>\n",
       "      <td>0.943855</td>\n",
       "      <td>0.055556</td>\n",
       "    </tr>\n",
       "  </tbody>\n",
       "</table>\n",
       "</div>"
      ],
      "text/plain": [
       "                          Model  Accuracy    Recall  Precision  f1-score  \\\n",
       "0  Logistic Regression Standard  0.972222  0.972222   0.973958  0.972156   \n",
       "0             AdaBoost Standard  0.944444  0.944444   0.949769  0.943865   \n",
       "0           Logistic Regression  0.944444  0.944444   0.944444  0.944444   \n",
       "0                      AdaBoost  0.944444  0.944444   0.946296  0.943855   \n",
       "\n",
       "   zero_one_loss  \n",
       "0       0.027778  \n",
       "0       0.055556  \n",
       "0       0.055556  \n",
       "0       0.055556  "
      ]
     },
     "execution_count": 438,
     "metadata": {},
     "output_type": "execute_result"
    }
   ],
   "source": [
    "results_df_st"
   ]
  },
  {
   "cell_type": "code",
   "execution_count": 448,
   "id": "301fc22e",
   "metadata": {},
   "outputs": [],
   "source": [
    "plot_results3 = results_df_st.set_index('Model')"
   ]
  },
  {
   "cell_type": "code",
   "execution_count": 449,
   "id": "bad87f3d",
   "metadata": {},
   "outputs": [
    {
     "data": {
      "image/png": "[encoded data removed]",
      "text/plain": [
       "<matplotlib.figure.Figure at 0x11062d1d0>"
      ]
     },
     "metadata": {},
     "output_type": "display_data"
    }
   ],
   "source": [
    "ax = plot_results3[['Accuracy', 'Recall', 'Precision', 'f1-score', 'zero_one_loss']].plot(kind='barh', figsize=(12, 8))\n",
    "ax.set_title('Comparativa de diferents metriques en AdaBoost i Regressió Logística', fontsize = 14)\n",
    "ax.set_ylabel('')\n",
    "ax.set_xlim([0.01, 1.05])\n",
    "handles, labels = ax.get_legend_handles_labels()\n",
    "ax.legend(reversed(handles), reversed(labels), loc='upper left', bbox_to_anchor=(1, 1.02)); "
   ]
  },
  {
   "cell_type": "markdown",
   "id": "65a319ff",
   "metadata": {},
   "source": [
    "Si comparem els dos models abans i després de l'estandarizació de les dades, podem veure clarament com el model de regressió ha millorat notablement en totes les mètriques, mentres que el model AdaBoost ha restat gairebé igual, amb només 2 metriques que han millorat molt poc. \n",
    "Així doncs per finalitzar, en aquest cas en concret, el model de regressió logística és el que hauriem d'escollir, doncs després de tractar les dades arriba a un percentatge en les prediccions molt elevat que el model AdaBoost no ha pogut igualar i al mateix temps amb una perdua menor que ens farà obtenir unes prediccions amb menys errors."
   ]
  }
 ],
 "metadata": {
  "kernelspec": {
   "display_name": "Python 3 (ipykernel)",
   "language": "python",
   "name": "python3"
  },
  "language_info": {
   "codemirror_mode": {
    "name": "ipython",
    "version": 3
   },
   "file_extension": ".py",
   "mimetype": "text/x-python",
   "name": "python",
   "nbconvert_exporter": "python",
   "pygments_lexer": "ipython3",
   "version": "3.9.12"
  }
 },
 "nbformat": 4,
 "nbformat_minor": 5
}
